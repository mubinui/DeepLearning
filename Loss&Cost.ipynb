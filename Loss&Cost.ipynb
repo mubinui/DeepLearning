{
  "nbformat": 4,
  "nbformat_minor": 0,
  "metadata": {
    "colab": {
      "name": "Loss&Cost",
      "provenance": [],
      "authorship_tag": "ABX9TyP15npqfb8z/GvuX4R3XiMl",
      "include_colab_link": true
    },
    "kernelspec": {
      "name": "python3",
      "display_name": "Python 3"
    },
    "language_info": {
      "name": "python"
    }
  },
  "cells": [
    {
      "cell_type": "markdown",
      "metadata": {
        "id": "view-in-github",
        "colab_type": "text"
      },
      "source": [
        "<a href=\"https://colab.research.google.com/github/mubinui/DeepLearning/blob/main/Loss%26Cost.ipynb\" target=\"_parent\"><img src=\"https://colab.research.google.com/assets/colab-badge.svg\" alt=\"Open In Colab\"/></a>"
      ]
    },
    {
      "cell_type": "markdown",
      "source": [
        "#Loss Functions & Cost Functions\n",
        "Used in neural network training \n",
        "1. <b>sparse_categorical_crossentropy</b>\n",
        "2. <b>binary_crossentropy</b>\n",
        "3. <b>categorical_crossentropy</b>\n",
        "4. <b><font color='blue'>mean_absolute_error<font></b>\n",
        "5. <b><font color='blue'>mean_squared_error<front></b>\n",
        "\n",
        "Example : $y$ [insurance] is dependent on $x$[age, affordablity]<br>\n",
        "so, the prediction function is $y = f(x)$\n",
        "<br>\n",
        "<br>\n",
        "$Mean Absolute Error = \\frac {1}{n} \\sum _{i=1}^{n} abs(y_i-\\vec{y}_i)$\n",
        "<br>\n",
        "<br>\n",
        "Here every errors are loss function and Mean absolute Error is cost function.\n",
        "<br>\n",
        "<br>$Mean Squared Error = \\frac {1}{n} \\sum _{i=1}^{n}(y_i-\\vec{y}_i)^2$<br>\n",
        "<br>\n",
        "<big> 1 Epoch = going through all training samples once </big>\n",
        "<br>\n",
        "<br>\n",
        "$Log loss or birnary cross entropy =-\\frac {1}{n}\\sum _{i=0} ^{n} y_i log(\\vec{y_i})(1-y_i).log(1-\\vec {y_i})$<br><br>\n",
        "For logistic regession we use log loss / binary cross entropy.\n",
        "\n"
      ],
      "metadata": {
        "id": "WquUm3fNukaF"
      }
    },
    {
      "cell_type": "code",
      "execution_count": 29,
      "metadata": {
        "id": "ne37dmlQuVTa"
      },
      "outputs": [],
      "source": [
        "import numpy as np \n",
        "import math"
      ]
    },
    {
      "cell_type": "code",
      "source": [
        "y_predicted = np.array([1, 1, 0, 0, 1])\n",
        "y_true = np.array([0.30, 0.7, 1, 0, 0.5])"
      ],
      "metadata": {
        "id": "8YzwDMNG3Ehi"
      },
      "execution_count": 2,
      "outputs": []
    },
    {
      "cell_type": "code",
      "source": [
        "#Lets implement mean absolute error\n",
        "def mean_absolute_error(y_true, y_predicted):\n",
        "    total_error = 0\n",
        "    for yt, yp in zip(y_true, y_predicted):\n",
        "        total_error +=abs(yt-yp)\n",
        "    avg = total_error/len(y_true)\n",
        "    return avg\n",
        "\n",
        "#Lets implement mean squared error\n",
        "def mean_squared_error(y_true, y_predicted):\n",
        "    total_error = 0\n",
        "    for yt, yp in zip(y_true, y_predicted):\n",
        "        total_error +=((yt-yp)**2)\n",
        "    avg = total_error/len(y_true)\n",
        "    return avg\n",
        "\n"
      ],
      "metadata": {
        "id": "H-zFH3mi3gO_"
      },
      "execution_count": 21,
      "outputs": []
    },
    {
      "cell_type": "code",
      "source": [
        "mae = mean_absolute_error(y_true, y_predicted)\n",
        "print('MAE',mae)\n",
        "mse = mean_squared_error(y_true, y_predicted)\n",
        "print('MSE',mse)"
      ],
      "metadata": {
        "colab": {
          "base_uri": "https://localhost:8080/"
        },
        "id": "t4lGXFWg4fZi",
        "outputId": "a08ba641-bf26-4a4f-cbeb-c1a8c8621832"
      },
      "execution_count": 22,
      "outputs": [
        {
          "output_type": "stream",
          "name": "stdout",
          "text": [
            "MAE 0.5\n",
            "MSE 0.366\n"
          ]
        }
      ]
    },
    {
      "cell_type": "code",
      "source": [
        "np.mean(np.abs(y_true-y_predicted)) # MAE"
      ],
      "metadata": {
        "colab": {
          "base_uri": "https://localhost:8080/"
        },
        "id": "W4QaHyPY7IIH",
        "outputId": "448a85bd-f43c-4f9d-ee7d-ea28d79e1a07"
      },
      "execution_count": 18,
      "outputs": [
        {
          "output_type": "execute_result",
          "data": {
            "text/plain": [
              "0.5"
            ]
          },
          "metadata": {},
          "execution_count": 18
        }
      ]
    },
    {
      "cell_type": "code",
      "source": [
        "np.mean(np.power((y_true-y_predicted),2)) # MSE "
      ],
      "metadata": {
        "colab": {
          "base_uri": "https://localhost:8080/"
        },
        "id": "wxCiESuT7UT7",
        "outputId": "abc73839-008d-4342-b718-2bd74cfcd9cb"
      },
      "execution_count": 23,
      "outputs": [
        {
          "output_type": "execute_result",
          "data": {
            "text/plain": [
              "0.366"
            ]
          },
          "metadata": {},
          "execution_count": 23
        }
      ]
    },
    {
      "cell_type": "code",
      "source": [
        "# log of 0 is undefined so we are taking some value epsilon which is close to 0\n",
        "epsilon = 1e-15\n",
        "y_predicted_new = [max(i,epsilon)for i in y_predicted] # 0 replaced by epsilon \n",
        "y_predicted_new = [min(i, 1-epsilon) for i in y_predicted_new] # 1 replaced by 0.999...\n",
        "print(type(y_predicted_new))\n",
        "y_predicted_new = np.array(y_predicted_new)"
      ],
      "metadata": {
        "colab": {
          "base_uri": "https://localhost:8080/"
        },
        "id": "77WbIi2i7_53",
        "outputId": "9498fb49-eb64-4751-ec28-f13dc8b779bb"
      },
      "execution_count": 32,
      "outputs": [
        {
          "output_type": "stream",
          "name": "stdout",
          "text": [
            "<class 'list'>\n"
          ]
        }
      ]
    },
    {
      "cell_type": "code",
      "source": [
        "#Binary_cross_entropy\n",
        "bce=-np.mean(y_true * np.log(y_predicted_new)+(1-y_true) * np.log(1-y_predicted_new))\n",
        "print(bce)"
      ],
      "metadata": {
        "colab": {
          "base_uri": "https://localhost:8080/"
        },
        "id": "hBElbIdq-Ikw",
        "outputId": "56ee4c94-7e06-41fb-bef0-7455c5e7e1d6"
      },
      "execution_count": 33,
      "outputs": [
        {
          "output_type": "stream",
          "name": "stdout",
          "text": [
            "17.2696280766844\n"
          ]
        }
      ]
    }
  ]
}