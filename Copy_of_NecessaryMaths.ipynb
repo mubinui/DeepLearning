{
  "nbformat": 4,
  "nbformat_minor": 0,
  "metadata": {
    "colab": {
      "name": "Copy of NecessaryMaths.ipynb",
      "provenance": [],
      "authorship_tag": "ABX9TyNBTcqTaqkdYwphv5MhJaCJ",
      "include_colab_link": true
    },
    "kernelspec": {
      "name": "python3",
      "display_name": "Python 3"
    },
    "language_info": {
      "name": "python"
    }
  },
  "cells": [
    {
      "cell_type": "markdown",
      "metadata": {
        "id": "view-in-github",
        "colab_type": "text"
      },
      "source": [
        "<a href=\"https://colab.research.google.com/github/mubinui/DeepLearning/blob/main/Copy_of_NecessaryMaths.ipynb\" target=\"_parent\"><img src=\"https://colab.research.google.com/assets/colab-badge.svg\" alt=\"Open In Colab\"/></a>"
      ]
    },
    {
      "cell_type": "markdown",
      "source": [
        "#Derivatives\n",
        "Slope: For linear equations, a constant\n",
        "$$ Slope =  \\frac {Δy} {\\Delta {x}}$$\n",
        "\n",
        "Derivatives for non-linear equations , a function \n",
        "$$ \\frac {d} {dx} {(x)} $$\n",
        "\n",
        "Partial derivatives\n",
        " if ,$$ f(x, y) = x^3 + y^3 $$\n",
        " The partial derivatives will be \n",
        " $$ \\frac {δf} {δx} {=3x^2+0 = 3x^2}$$ </br>\n",
        "$$ \\frac {δf} {δy} {=0+3y^2 = 3y^2}$$\n",
        "Significance of the two equations \n",
        "\n",
        "**How much the function is changing due to the change in x**</br>\n",
        "**How much the function is changing due to the change in y** </br>\n",
        "Derivatives uses for adjusting weight and back propagarion in neural network\n",
        "\n",
        "\n",
        "\n",
        "\n",
        "\n"
      ],
      "metadata": {
        "id": "a1kVj8OO-kJu"
      }
    },
    {
      "cell_type": "markdown",
      "source": [
        "#Matrix Manipulation\n",
        "Dot product =  row $\\times$ column \n",
        "$$ Dot Product = \\sum _{i=0}^{n}{row \\times {column}}$$\n"
      ],
      "metadata": {
        "id": "L4WZ_Q16IrgT"
      }
    },
    {
      "cell_type": "code",
      "execution_count": null,
      "metadata": {
        "id": "hI-i5LT8-aCY"
      },
      "outputs": [],
      "source": [
        "import numpy as np "
      ]
    },
    {
      "cell_type": "code",
      "source": [
        "rev = np.array([[180, 200, 100], [20, 30, 40], [12, 24, 26]])\n",
        "exp = np.array([[10, 20, 30], [10, 15, 20], [25, 30, 35]])"
      ],
      "metadata": {
        "id": "Unoev2ndKnLD"
      },
      "execution_count": null,
      "outputs": []
    },
    {
      "cell_type": "code",
      "source": [
        "profit = rev-exp\n",
        "print(profit)"
      ],
      "metadata": {
        "colab": {
          "base_uri": "https://localhost:8080/"
        },
        "id": "uFpD7E0jLVIh",
        "outputId": "fc742a12-fd4c-4c70-9b87-e22b580d2372"
      },
      "execution_count": null,
      "outputs": [
        {
          "output_type": "stream",
          "name": "stdout",
          "text": [
            "[[170 180  70]\n",
            " [ 10  15  20]\n",
            " [-13  -6  -9]]\n"
          ]
        }
      ]
    },
    {
      "cell_type": "code",
      "source": [
        "yr_2028 = [30, 40, 10] # prodA , prodB , prodC\n",
        "yr_2029 = [10, 40, 50]\n",
        "yr_2030 = [50, 60, 70]\n",
        "unit_sold = np.array([yr_2028, yr_2029, yr_2030])\n",
        "price_per_unit = np.array([40, 50, 60])\n",
        "total_rev_per_yr = np.dot(price_per_unit, unit_sold)\n",
        "print(total_rev_per_yr)"
      ],
      "metadata": {
        "colab": {
          "base_uri": "https://localhost:8080/"
        },
        "id": "DT7LkT2OLr2x",
        "outputId": "3b09a2b5-1bcf-41cd-cf57-1a4a1b5809af"
      },
      "execution_count": null,
      "outputs": [
        {
          "output_type": "stream",
          "name": "stdout",
          "text": [
            "[4700 7200 7100]\n"
          ]
        }
      ]
    },
    {
      "cell_type": "code",
      "source": [
        ""
      ],
      "metadata": {
        "id": "8zmVyBsgRO7r"
      },
      "execution_count": null,
      "outputs": []
    }
  ]
}