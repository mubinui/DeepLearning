{
  "nbformat": 4,
  "nbformat_minor": 0,
  "metadata": {
    "colab": {
      "name": "Rock_Detection_Small_Dataset.ipynb",
      "provenance": [],
      "mount_file_id": "1HlDhfdlSqjDQlWZwPBB7HZxoSXdJ0cou",
      "authorship_tag": "ABX9TyOOGa7Dphe2g7asGmyc0fv1",
      "include_colab_link": true
    },
    "kernelspec": {
      "name": "python3",
      "display_name": "Python 3"
    },
    "language_info": {
      "name": "python"
    },
    "accelerator": "GPU"
  },
  "cells": [
    {
      "cell_type": "markdown",
      "metadata": {
        "id": "view-in-github",
        "colab_type": "text"
      },
      "source": [
        "<a href=\"https://colab.research.google.com/github/mubinui/DeepLearning/blob/main/Rock_Detection_Small_Dataset.ipynb\" target=\"_parent\"><img src=\"https://colab.research.google.com/assets/colab-badge.svg\" alt=\"Open In Colab\"/></a>"
      ]
    },
    {
      "cell_type": "markdown",
      "source": [
        "#Rock Detection with <b>YOLO\n",
        "Smaller Dataset "
      ],
      "metadata": {
        "id": "75ARuwPbegPS"
      }
    },
    {
      "cell_type": "markdown",
      "source": [
        "<h3><b>Clonning darknet</b> on drives darknet folder </h3>"
      ],
      "metadata": {
        "id": "lsC__iFphKW9"
      }
    },
    {
      "cell_type": "code",
      "source": [
        "!git clone 'http://github.com/AlexeyAB/darknet.git' '/content/drive/MyDrive/small_yolo_rock_model/darknet'"
      ],
      "metadata": {
        "colab": {
          "base_uri": "https://localhost:8080/"
        },
        "id": "hO86AcRqipUQ",
        "outputId": "47e55808-83d8-4f9e-fcf5-183ccde6000b"
      },
      "execution_count": 3,
      "outputs": [
        {
          "output_type": "stream",
          "name": "stdout",
          "text": [
            "Cloning into '/content/drive/MyDrive/small_yolo_rock_model/darknet'...\n",
            "warning: redirecting to https://github.com/AlexeyAB/darknet.git/\n",
            "remote: Enumerating objects: 15376, done.\u001b[K\n",
            "remote: Total 15376 (delta 0), reused 0 (delta 0), pack-reused 15376\u001b[K\n",
            "Receiving objects: 100% (15376/15376), 14.01 MiB | 5.86 MiB/s, done.\n",
            "Resolving deltas: 100% (10340/10340), done.\n",
            "Checking out files: 100% (2050/2050), done.\n"
          ]
        }
      ]
    },
    {
      "cell_type": "markdown",
      "source": [
        "<h5>Changing directory to darknet</h5>"
      ],
      "metadata": {
        "id": "paptX4dEjkMP"
      }
    },
    {
      "cell_type": "code",
      "source": [
        "%cd /content/drive/MyDrive/small_yolo_rock_model/darknet"
      ],
      "metadata": {
        "colab": {
          "base_uri": "https://localhost:8080/"
        },
        "id": "17QbXJwIjfer",
        "outputId": "03403fee-acc6-4be2-e93b-36b6f46723dc"
      },
      "execution_count": 23,
      "outputs": [
        {
          "output_type": "stream",
          "name": "stdout",
          "text": [
            "/content/drive/MyDrive/small_yolo_rock_model/darknet\n"
          ]
        }
      ]
    },
    {
      "cell_type": "markdown",
      "source": [
        "<h4><b>Darknet</b> folder structure</h4>"
      ],
      "metadata": {
        "id": "OXRhBGecj-7X"
      }
    },
    {
      "cell_type": "code",
      "source": [
        "!ls"
      ],
      "metadata": {
        "colab": {
          "base_uri": "https://localhost:8080/"
        },
        "id": "_0_MPE41lAMY",
        "outputId": "00c343bf-ba0a-4148-8a26-c274ff04ca28"
      },
      "execution_count": 6,
      "outputs": [
        {
          "output_type": "stream",
          "name": "stdout",
          "text": [
            "3rdparty\t\tdarknet_video.py       net_cam_v4.sh\n",
            "build\t\t\tdata\t\t       README.md\n",
            "build.ps1\t\timage_yolov3.sh        results\n",
            "cfg\t\t\timage_yolov4.sh        scripts\n",
            "cmake\t\t\tinclude\t\t       src\n",
            "CMakeLists.txt\t\tjson_mjpeg_streams.sh  vcpkg.json\n",
            "DarknetConfig.cmake.in\tLICENSE\t\t       video_yolov3.sh\n",
            "darknet_images.py\tMakefile\t       video_yolov4.sh\n",
            "darknet.py\t\tnet_cam_v3.sh\n"
          ]
        }
      ]
    },
    {
      "cell_type": "markdown",
      "source": [
        "<h4> Creating <b> make </b> file for Compiling the model</h4>"
      ],
      "metadata": {
        "id": "NutJfVh0lS4j"
      }
    },
    {
      "cell_type": "code",
      "source": [
        "!make"
      ],
      "metadata": {
        "colab": {
          "base_uri": "https://localhost:8080/"
        },
        "id": "mRCfPdn5lF0s",
        "outputId": "1a39f1d3-f0dd-4c78-96a7-9d4727ee9e56"
      },
      "execution_count": 25,
      "outputs": [
        {
          "output_type": "stream",
          "name": "stdout",
          "text": [
            "chmod +x *.sh\n"
          ]
        }
      ]
    },
    {
      "cell_type": "markdown",
      "source": [
        "<h4> Edit make file and use <b>gpu cudann opencv</b></h>"
      ],
      "metadata": {
        "id": "ond-I_ohmK_g"
      }
    },
    {
      "cell_type": "code",
      "source": [
        "%cd /content/drive/MyDrive/small_yolo_rock_model"
      ],
      "metadata": {
        "colab": {
          "base_uri": "https://localhost:8080/"
        },
        "id": "oayusXe6m0f6",
        "outputId": "68134b9c-2490-434f-f10f-4752458234e7"
      },
      "execution_count": 30,
      "outputs": [
        {
          "output_type": "stream",
          "name": "stdout",
          "text": [
            "/content/drive/MyDrive/small_yolo_rock_model\n"
          ]
        }
      ]
    },
    {
      "cell_type": "markdown",
      "source": [
        "filter = (class + 5) *3<br>\n"
      ],
      "metadata": {
        "id": "kEuMkqlXpCM9"
      }
    },
    {
      "cell_type": "code",
      "source": [
        "!python rocks_data/creating-files-data-and-name.py"
      ],
      "metadata": {
        "colab": {
          "base_uri": "https://localhost:8080/"
        },
        "id": "NnHCD94indNk",
        "outputId": "5d9d2890-1b99-4756-9d72-67c201aa7d89"
      },
      "execution_count": 27,
      "outputs": [
        {
          "output_type": "stream",
          "name": "stdout",
          "text": [
            "python3: can't open file 'rocks_data/creating-files-data-and-name.py': [Errno 2] No such file or directory\n"
          ]
        }
      ]
    },
    {
      "cell_type": "code",
      "source": [
        "!python rocks_data/creating-train-and-test-txt-files.py"
      ],
      "metadata": {
        "colab": {
          "base_uri": "https://localhost:8080/"
        },
        "id": "Qn4Mk4Mwqbjq",
        "outputId": "213abdba-e767-4663-c0ce-a13806190983"
      },
      "execution_count": 28,
      "outputs": [
        {
          "output_type": "stream",
          "name": "stdout",
          "text": [
            "python3: can't open file 'rocks_data/creating-train-and-test-txt-files.py': [Errno 2] No such file or directory\n"
          ]
        }
      ]
    },
    {
      "cell_type": "code",
      "source": [
        "!darknet/darknet detector train rocks_data/labelled_data.data darknet/cfg/yolov4-tiny-custom.cfg custom_weight/darknet53.conv.74 -dont_show"
      ],
      "metadata": {
        "colab": {
          "base_uri": "https://localhost:8080/"
        },
        "id": "NFUeDHpcqxFX",
        "outputId": "1acab9ea-cc97-4822-8aa4-12a7904dd64f"
      },
      "execution_count": 31,
      "outputs": [
        {
          "output_type": "stream",
          "name": "stdout",
          "text": [
            " CUDA-version: 11010 (11020), cuDNN: 7.6.5, GPU count: 1  \n",
            " OpenCV version: 3.2.0\n",
            "yolov4-tiny-custom\n",
            " 0 : compute_capability = 370, cudnn_half = 0, GPU: Tesla K80 \n",
            "net.optimized_memory = 0 \n",
            "mini_batch = 64, batch = 64, time_steps = 1, train = 1 \n",
            "   layer   filters  size/strd(dil)      input                output\n",
            "   0 Create CUDA-stream - 0 \n",
            " Create cudnn-handle 0 \n",
            "conv     32       3 x 3/ 2    416 x 416 x   3 ->  208 x 208 x  32 0.075 BF\n",
            "   1 conv     64       3 x 3/ 2    208 x 208 x  32 ->  104 x 104 x  64 0.399 BF\n",
            "   2 conv     64       3 x 3/ 1    104 x 104 x  64 ->  104 x 104 x  64 0.797 BF\n",
            "   3 route  2 \t\t                       1/2 ->  104 x 104 x  32 \n",
            "   4 conv     32       3 x 3/ 1    104 x 104 x  32 ->  104 x 104 x  32 0.199 BF\n",
            "   5 conv     32       3 x 3/ 1    104 x 104 x  32 ->  104 x 104 x  32 0.199 BF\n",
            "   6 route  5 4 \t                           ->  104 x 104 x  64 \n",
            "   7 conv     64       1 x 1/ 1    104 x 104 x  64 ->  104 x 104 x  64 0.089 BF\n",
            "   8 route  2 7 \t                           ->  104 x 104 x 128 \n",
            "   9 max                2x 2/ 2    104 x 104 x 128 ->   52 x  52 x 128 0.001 BF\n",
            "  10 conv    128       3 x 3/ 1     52 x  52 x 128 ->   52 x  52 x 128 0.797 BF\n",
            "  11 route  10 \t\t                       1/2 ->   52 x  52 x  64 \n",
            "  12 conv     64       3 x 3/ 1     52 x  52 x  64 ->   52 x  52 x  64 0.199 BF\n",
            "  13 conv     64       3 x 3/ 1     52 x  52 x  64 ->   52 x  52 x  64 0.199 BF\n",
            "  14 route  13 12 \t                           ->   52 x  52 x 128 \n",
            "  15 conv    128       1 x 1/ 1     52 x  52 x 128 ->   52 x  52 x 128 0.089 BF\n",
            "  16 route  10 15 \t                           ->   52 x  52 x 256 \n",
            "  17 max                2x 2/ 2     52 x  52 x 256 ->   26 x  26 x 256 0.001 BF\n",
            "  18 conv    256       3 x 3/ 1     26 x  26 x 256 ->   26 x  26 x 256 0.797 BF\n",
            "  19 route  18 \t\t                       1/2 ->   26 x  26 x 128 \n",
            "  20 conv    128       3 x 3/ 1     26 x  26 x 128 ->   26 x  26 x 128 0.199 BF\n",
            "  21 conv    128       3 x 3/ 1     26 x  26 x 128 ->   26 x  26 x 128 0.199 BF\n",
            "  22 route  21 20 \t                           ->   26 x  26 x 256 \n",
            "  23 conv    256       1 x 1/ 1     26 x  26 x 256 ->   26 x  26 x 256 0.089 BF\n",
            "  24 route  18 23 \t                           ->   26 x  26 x 512 \n",
            "  25 max                2x 2/ 2     26 x  26 x 512 ->   13 x  13 x 512 0.000 BF\n",
            "  26 conv    512       3 x 3/ 1     13 x  13 x 512 ->   13 x  13 x 512 0.797 BF\n",
            "  27 conv    256       1 x 1/ 1     13 x  13 x 512 ->   13 x  13 x 256 0.044 BF\n",
            "  28 conv    512       3 x 3/ 1     13 x  13 x 256 ->   13 x  13 x 512 0.399 BF\n",
            "  29 conv    256       1 x 1/ 1     13 x  13 x 512 ->   13 x  13 x 256 0.044 BF\n",
            "  30 yolo\n",
            "Error: l.outputs == params.inputs \n",
            "filters= in the [convolutional]-layer doesn't correspond to classes= or mask= in [yolo]-layer \n"
          ]
        }
      ]
    }
  ]
}