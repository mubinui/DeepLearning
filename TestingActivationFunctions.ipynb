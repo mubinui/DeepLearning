{
  "nbformat": 4,
  "nbformat_minor": 0,
  "metadata": {
    "colab": {
      "name": "TestingActivationFunctions.ipynb",
      "provenance": [],
      "authorship_tag": "ABX9TyNxbTL4QVS3JJqVtJCKrPTH",
      "include_colab_link": true
    },
    "kernelspec": {
      "name": "python3",
      "display_name": "Python 3"
    },
    "language_info": {
      "name": "python"
    }
  },
  "cells": [
    {
      "cell_type": "markdown",
      "metadata": {
        "id": "view-in-github",
        "colab_type": "text"
      },
      "source": [
        "<a href=\"https://colab.research.google.com/github/mubinui/DeepLearning/blob/main/TestingActivationFunctions.ipynb\" target=\"_parent\"><img src=\"https://colab.research.google.com/assets/colab-badge.svg\" alt=\"Open In Colab\"/></a>"
      ]
    },
    {
      "cell_type": "markdown",
      "source": [
        "#**Activation Functions** </br>\n",
        "1. Step Function \n",
        "2. Sigmoid Function  in most cases on output layer  <font color='red'>binary Classification </font> range [0,1] \n",
        "3. tanh [most other cases ] range [-1, 1]\n",
        "4. ReLU [if value less than 0 output 0 and if more than zero output that value]\n",
        "</br>\n",
        "</br>\n",
        "<b>Vanishing gradient problem (Sigmoid, Tanh)</b><br>\n",
        "We can use <b>ReLU  for hidden layers </b>.<br>\n",
        "ReLU has the vanishing gradient problem when less\n",
        "$$ReLU(z) = max(0,x)$$\n",
        "<br>\n",
        "Leaky ReLU just the comparison is 0.1x instead of 0.\n",
        "$$ Leaky ReLU(z) = max(0.1x, x)$$\n"
      ],
      "metadata": {
        "id": "GIzFiXK3yDKH"
      }
    },
    {
      "cell_type": "code",
      "execution_count": 8,
      "metadata": {
        "id": "wbJgR2yAxvxN"
      },
      "outputs": [],
      "source": [
        "import math \n",
        "\n",
        "def sigmoid(x):\n",
        "    return 1/(1+math.exp(-x))\n",
        "\n",
        "\n",
        "\n",
        "def tanh(x):\n",
        "    return (math.exp(x)-math.exp(-x))/(math.exp(x)+math.exp(-x))\n",
        "\n",
        "\n",
        "def relu(x):\n",
        "    return max(0, x)\n",
        "\n",
        "\n",
        "def leaky_relu(x):\n",
        "    return max(0.1*x,x)\n",
        "\n"
      ]
    },
    {
      "cell_type": "markdown",
      "source": [
        "Testing sigmoid "
      ],
      "metadata": {
        "id": "OLazCZ_z8o4Q"
      }
    },
    {
      "cell_type": "code",
      "source": [
        "print(sigmoid(100))\n",
        "print(sigmoid(200))\n",
        "print(sigmoid(1000000))\n",
        "print(sigmoid(-200))\n",
        "print(sigmoid(0.9))"
      ],
      "metadata": {
        "colab": {
          "base_uri": "https://localhost:8080/"
        },
        "id": "9Qp_STAE6l8P",
        "outputId": "0b14e29b-0478-47d7-babd-7103d135da67"
      },
      "execution_count": 3,
      "outputs": [
        {
          "output_type": "stream",
          "name": "stdout",
          "text": [
            "1.0\n",
            "1.0\n",
            "1.0\n",
            "1.3838965267367376e-87\n",
            "0.7109495026250039\n"
          ]
        }
      ]
    },
    {
      "cell_type": "markdown",
      "source": [
        "Testing tanh"
      ],
      "metadata": {
        "id": "qRYk_oSH8t2C"
      }
    },
    {
      "cell_type": "code",
      "source": [
        "print(tanh(100))\n",
        "print(tanh(-100))\n",
        "print(tanh(2.5550))\n",
        "print(tanh(0.5001))"
      ],
      "metadata": {
        "colab": {
          "base_uri": "https://localhost:8080/"
        },
        "id": "YFggA41I6-xg",
        "outputId": "1c15e3f8-b774-4739-c8c0-638efba15505"
      },
      "execution_count": 5,
      "outputs": [
        {
          "output_type": "stream",
          "name": "stdout",
          "text": [
            "1.0\n",
            "-1.0\n",
            "0.9880002655450322\n",
            "0.4621957983989022\n"
          ]
        }
      ]
    },
    {
      "cell_type": "markdown",
      "source": [
        "Testing ReLU"
      ],
      "metadata": {
        "id": "jMqoZqJm8zWg"
      }
    },
    {
      "cell_type": "code",
      "source": [
        "print(relu(0.5))\n",
        "print(relu(0))\n",
        "print(relu(-0.5))\n",
        "\n",
        "# leaky relu\n",
        "print('........leaky..........')\n",
        "print(leaky_relu(0.5))\n",
        "print(leaky_relu(-0.5))\n",
        "print(leaky_relu(0))\n",
        "print(leaky_relu(2000))"
      ],
      "metadata": {
        "colab": {
          "base_uri": "https://localhost:8080/"
        },
        "id": "xi8OaWmu8yOU",
        "outputId": "63a301a4-c834-40ae-8bc2-009f5fcdfe63"
      },
      "execution_count": 10,
      "outputs": [
        {
          "output_type": "stream",
          "name": "stdout",
          "text": [
            "0.5\n",
            "0\n",
            "0\n",
            "........leaky..........\n",
            "0.5\n",
            "-0.05\n",
            "0.0\n",
            "2000\n"
          ]
        }
      ]
    }
  ]
}